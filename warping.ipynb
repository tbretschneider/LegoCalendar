{
 "cells": [
  {
   "cell_type": "code",
   "execution_count": 3,
   "id": "376dcee2-f2f0-483d-ab7a-7ce68a99885f",
   "metadata": {},
   "outputs": [
    {
     "name": "stdout",
     "output_type": "stream",
     "text": [
      "480\n"
     ]
    },
    {
     "ename": "TypeError",
     "evalue": "Can't convert object of type 'list' to 'str' for 'text'",
     "output_type": "error",
     "traceback": [
      "\u001b[0;31m---------------------------------------------------------------------------\u001b[0m",
      "\u001b[0;31mTypeError\u001b[0m                                 Traceback (most recent call last)",
      "\u001b[0;32m<ipython-input-3-7413ebe4d404>\u001b[0m in \u001b[0;36m<module>\u001b[0;34m\u001b[0m\n\u001b[1;32m     74\u001b[0m               [\"Biggest Contour\",\"Warp Prespective\",\"Warp Gray\",\"Adaptive Threshold\"]]\n\u001b[1;32m     75\u001b[0m \u001b[0;34m\u001b[0m\u001b[0m\n\u001b[0;32m---> 76\u001b[0;31m     \u001b[0mstackedImage\u001b[0m \u001b[0;34m=\u001b[0m \u001b[0mutlis\u001b[0m\u001b[0;34m.\u001b[0m\u001b[0mstackImages\u001b[0m\u001b[0;34m(\u001b[0m\u001b[0mimageArray\u001b[0m\u001b[0;34m,\u001b[0m\u001b[0;36m0.75\u001b[0m\u001b[0;34m,\u001b[0m\u001b[0mlables\u001b[0m\u001b[0;34m)\u001b[0m\u001b[0;34m\u001b[0m\u001b[0;34m\u001b[0m\u001b[0m\n\u001b[0m\u001b[1;32m     77\u001b[0m     \u001b[0mcv2\u001b[0m\u001b[0;34m.\u001b[0m\u001b[0mimshow\u001b[0m\u001b[0;34m(\u001b[0m\u001b[0;34m\"Result\"\u001b[0m\u001b[0;34m,\u001b[0m\u001b[0mstackedImage\u001b[0m\u001b[0;34m)\u001b[0m\u001b[0;34m\u001b[0m\u001b[0;34m\u001b[0m\u001b[0m\n\u001b[1;32m     78\u001b[0m \u001b[0;34m\u001b[0m\u001b[0m\n",
      "\u001b[0;32m~/Documents/Anaconda /LEGOcalendar/warping image/utlis.ipynb\u001b[0m in \u001b[0;36mstackImages\u001b[0;34m(imgArray, scale, lables)\u001b[0m\n\u001b[1;32m     44\u001b[0m     \u001b[0;34m\"        eachImgWidth= int(ver.shape[1] / cols)\\n\"\u001b[0m\u001b[0;34m,\u001b[0m\u001b[0;34m\u001b[0m\u001b[0;34m\u001b[0m\u001b[0m\n\u001b[1;32m     45\u001b[0m     \u001b[0;34m\"        eachImgHeight = int(ver.shape[0] / rows)\\n\"\u001b[0m\u001b[0;34m,\u001b[0m\u001b[0;34m\u001b[0m\u001b[0;34m\u001b[0m\u001b[0m\n\u001b[0;32m---> 46\u001b[0;31m     \u001b[0;34m\"        print(isinstance(eachImgHeight, list))\\n\"\u001b[0m\u001b[0;34m,\u001b[0m\u001b[0;34m\u001b[0m\u001b[0;34m\u001b[0m\u001b[0m\n\u001b[0m\u001b[1;32m     47\u001b[0m     \u001b[0;34m\"        print(eachImgHeight)\\n\"\u001b[0m\u001b[0;34m,\u001b[0m\u001b[0;34m\u001b[0m\u001b[0;34m\u001b[0m\u001b[0m\n\u001b[1;32m     48\u001b[0m     \u001b[0;34m\"        for d in range(0, rows):\\n\"\u001b[0m\u001b[0;34m,\u001b[0m\u001b[0;34m\u001b[0m\u001b[0;34m\u001b[0m\u001b[0m\n",
      "\u001b[0;31mTypeError\u001b[0m: Can't convert object of type 'list' to 'str' for 'text'"
     ]
    }
   ],
   "source": [
    "#### Code to warp an image\n",
    "### from computervisionzone\n",
    "\n",
    "import cv2\n",
    "import numpy as np\n",
    "\n",
    "import ipynb.fs.full.utlis as utlis\n",
    "\n",
    "\n",
    "###############################################################\n",
    "\n",
    "pathImage = \"paper.jpg\"\n",
    "cap = cv2.VideoCapture(0)\n",
    "cap.set(10,160)\n",
    "heightImg = 640\n",
    "widthImg  = 480\n",
    "########################################################################\n",
    " \n",
    "utlis.initializeTrackbars()\n",
    "count=0\n",
    " \n",
    "if 0 ==0:\n",
    " \n",
    "\n",
    "    img = cv2.imread(pathImage)\n",
    "    img = cv2.resize(img, (widthImg, heightImg)) # RESIZE IMAGE\n",
    "    imgBlank = np.zeros((heightImg,widthImg, 3), np.uint8) # CREATE A BLANK IMAGE FOR TESTING DEBUGING IF REQUIRED\n",
    "    imgGray = cv2.cvtColor(img, cv2.COLOR_BGR2GRAY) # CONVERT IMAGE TO GRAY SCALE\n",
    "    imgBlur = cv2.GaussianBlur(imgGray, (5, 5), 1) # ADD GAUSSIAN BLUR\n",
    "    thres=utlis.valTrackbars() # GET TRACK BAR VALUES FOR THRESHOLDS\n",
    "    imgThreshold = cv2.Canny(imgBlur,thres[0],thres[1]) # APPLY CANNY BLUR\n",
    "    kernel = np.ones((5, 5))\n",
    "    imgDial = cv2.dilate(imgThreshold, kernel, iterations=2) # APPLY DILATION\n",
    "    imgThreshold = cv2.erode(imgDial, kernel, iterations=1)  # APPLY EROSION\n",
    " \n",
    "    ## FIND ALL COUNTOURS\n",
    "    imgContours = img.copy() # COPY IMAGE FOR DISPLAY PURPOSES\n",
    "    imgBigContour = img.copy() # COPY IMAGE FOR DISPLAY PURPOSES\n",
    "    contours, hierarchy = cv2.findContours(imgThreshold, cv2.RETR_EXTERNAL, cv2.CHAIN_APPROX_SIMPLE) # FIND ALL CONTOURS\n",
    "    cv2.drawContours(imgContours, contours, -1, (0, 255, 0), 10) # DRAW ALL DETECTED CONTOURS\n",
    " \n",
    " \n",
    "    # FIND THE BIGGEST COUNTOUR\n",
    "    biggest, maxArea = utlis.biggestContour(contours) # FIND THE BIGGEST CONTOUR\n",
    "    if biggest.size != 0:\n",
    "        biggest=utlis.reorder(biggest)\n",
    "        cv2.drawContours(imgBigContour, biggest, -1, (0, 255, 0), 20) # DRAW THE BIGGEST CONTOUR\n",
    "        imgBigContour = utlis.drawRectangle(imgBigContour,biggest,2)\n",
    "        pts1 = np.float32(biggest) # PREPARE POINTS FOR WARP\n",
    "        pts2 = np.float32([[0, 0],[widthImg, 0], [0, heightImg],[widthImg, heightImg]]) # PREPARE POINTS FOR WARP\n",
    "        matrix = cv2.getPerspectiveTransform(pts1, pts2)\n",
    "        imgWarpColored = cv2.warpPerspective(img, matrix, (widthImg, heightImg))\n",
    " \n",
    "        #REMOVE 20 PIXELS FORM EACH SIDE\n",
    "        imgWarpColored=imgWarpColored[20:imgWarpColored.shape[0] - 20, 20:imgWarpColored.shape[1] - 20]\n",
    "        imgWarpColored = cv2.resize(imgWarpColored,(widthImg,heightImg))\n",
    " \n",
    "        # APPLY ADAPTIVE THRESHOLD\n",
    "        imgWarpGray = cv2.cvtColor(imgWarpColored,cv2.COLOR_BGR2GRAY)\n",
    "        imgAdaptiveThre= cv2.adaptiveThreshold(imgWarpGray, 255, 1, 1, 7, 2)\n",
    "        imgAdaptiveThre = cv2.bitwise_not(imgAdaptiveThre)\n",
    "        imgAdaptiveThre=cv2.medianBlur(imgAdaptiveThre,3)\n",
    " \n",
    "        # Image Array for Display\n",
    "        imageArray = ([img,imgGray,imgThreshold,imgContours],\n",
    "                      [imgBigContour,imgWarpColored, imgWarpGray,imgAdaptiveThre])\n",
    " \n",
    "    else:\n",
    "        imageArray = ([img,imgGray,imgThreshold,imgContours],\n",
    "                      [imgBlank, imgBlank, imgBlank, imgBlank])\n",
    " \n",
    "    # LABELS FOR DISPLAY\n",
    "    lables = [[\"Original\",\"Gray\",\"Threshold\",\"Contours\"],\n",
    "              [\"Biggest Contour\",\"Warp Prespective\",\"Warp Gray\",\"Adaptive Threshold\"]]\n",
    " \n",
    "    stackedImage = utlis.stackImages(imageArray,0.75,lables)\n",
    "    cv2.imshow(\"Result\",stackedImage)\n",
    " \n",
    "    # SAVE IMAGE WHEN 's' key is pressed\n",
    "    if cv2.waitKey(1) & 0xFF == ord('s'):\n",
    "        cv2.imwrite(\"Scanned/myImage\"+str(count)+\".jpg\",imgWarpColored)\n",
    "        cv2.rectangle(stackedImage, ((int(stackedImage.shape[1] / 2) - 230), int(stackedImage.shape[0] / 2) + 50),\n",
    "                      (1100, 350), (0, 255, 0), cv2.FILLED)\n",
    "        cv2.putText(stackedImage, \"Scan Saved\", (int(stackedImage.shape[1] / 2) - 200, int(stackedImage.shape[0] / 2)),\n",
    "                    cv2.FONT_HERSHEY_DUPLEX, 3, (0, 0, 255), 5, cv2.LINE_AA)\n",
    "        cv2.imshow('Result', stackedImage)\n",
    "        cv2.waitKey(300)\n",
    "        count += 1"
   ]
  },
  {
   "cell_type": "code",
   "execution_count": 1,
   "id": "97402df2-c334-4d96-a5d0-93ddc74d3853",
   "metadata": {},
   "outputs": [
    {
     "name": "stdout",
     "output_type": "stream",
     "text": [
      "4\n"
     ]
    }
   ],
   "source": [
    "number = 4\n",
    "print(number)"
   ]
  },
  {
   "cell_type": "code",
   "execution_count": null,
   "id": "df81fefc-fdf3-4ba0-b59c-92f6145a4e2f",
   "metadata": {},
   "outputs": [],
   "source": []
  }
 ],
 "metadata": {
  "kernelspec": {
   "display_name": "Python 3",
   "language": "python",
   "name": "python3"
  },
  "language_info": {
   "codemirror_mode": {
    "name": "ipython",
    "version": 3
   },
   "file_extension": ".py",
   "mimetype": "text/x-python",
   "name": "python",
   "nbconvert_exporter": "python",
   "pygments_lexer": "ipython3",
   "version": "3.8.8"
  }
 },
 "nbformat": 4,
 "nbformat_minor": 5
}
